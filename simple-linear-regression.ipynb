{
 "cells": [
  {
   "cell_type": "markdown",
   "metadata": {},
   "source": [
    "### Import Libraries\n",
    "\n",
    "* pandas for handling csv input files\n",
    "* numpy for matrix operations and other utility functions like zeroes, mean, max, min etc\n",
    "* math for floor and ceil while plotting regression line\n",
    "* pyplot to construct regression lines and cost graph\n",
    "* sklearn.model_selection to create train test split on the dataset based on a random state generator"
   ]
  },
  {
   "cell_type": "code",
   "execution_count": 382,
   "metadata": {},
   "outputs": [],
   "source": [
    "import pandas as pd\n",
    "import numpy as np\n",
    "import math\n",
    "import matplotlib.pyplot as plt\n",
    "from sklearn.model_selection import train_test_split"
   ]
  },
  {
   "cell_type": "markdown",
   "metadata": {},
   "source": [
    "read the csv files, for the sake of simplicity we only use 1 independent and 1 dependent variable for now.\n",
    "We select time_study as independent value, since marks changes based on the value of time_study"
   ]
  },
  {
   "cell_type": "code",
   "execution_count": 383,
   "metadata": {},
   "outputs": [
    {
     "data": {
      "text/html": [
       "<div>\n",
       "<style scoped>\n",
       "    .dataframe tbody tr th:only-of-type {\n",
       "        vertical-align: middle;\n",
       "    }\n",
       "\n",
       "    .dataframe tbody tr th {\n",
       "        vertical-align: top;\n",
       "    }\n",
       "\n",
       "    .dataframe thead th {\n",
       "        text-align: right;\n",
       "    }\n",
       "</style>\n",
       "<table border=\"1\" class=\"dataframe\">\n",
       "  <thead>\n",
       "    <tr style=\"text-align: right;\">\n",
       "      <th></th>\n",
       "      <th>number_courses</th>\n",
       "      <th>time_study</th>\n",
       "      <th>Marks</th>\n",
       "    </tr>\n",
       "  </thead>\n",
       "  <tbody>\n",
       "    <tr>\n",
       "      <th>0</th>\n",
       "      <td>3</td>\n",
       "      <td>4.508</td>\n",
       "      <td>19.202</td>\n",
       "    </tr>\n",
       "    <tr>\n",
       "      <th>1</th>\n",
       "      <td>4</td>\n",
       "      <td>0.096</td>\n",
       "      <td>7.734</td>\n",
       "    </tr>\n",
       "    <tr>\n",
       "      <th>2</th>\n",
       "      <td>4</td>\n",
       "      <td>3.133</td>\n",
       "      <td>13.811</td>\n",
       "    </tr>\n",
       "    <tr>\n",
       "      <th>3</th>\n",
       "      <td>6</td>\n",
       "      <td>7.909</td>\n",
       "      <td>53.018</td>\n",
       "    </tr>\n",
       "    <tr>\n",
       "      <th>4</th>\n",
       "      <td>8</td>\n",
       "      <td>7.811</td>\n",
       "      <td>55.299</td>\n",
       "    </tr>\n",
       "    <tr>\n",
       "      <th>5</th>\n",
       "      <td>6</td>\n",
       "      <td>3.211</td>\n",
       "      <td>17.822</td>\n",
       "    </tr>\n",
       "    <tr>\n",
       "      <th>6</th>\n",
       "      <td>3</td>\n",
       "      <td>6.063</td>\n",
       "      <td>29.889</td>\n",
       "    </tr>\n",
       "    <tr>\n",
       "      <th>7</th>\n",
       "      <td>5</td>\n",
       "      <td>3.413</td>\n",
       "      <td>17.264</td>\n",
       "    </tr>\n",
       "    <tr>\n",
       "      <th>8</th>\n",
       "      <td>4</td>\n",
       "      <td>4.410</td>\n",
       "      <td>20.348</td>\n",
       "    </tr>\n",
       "    <tr>\n",
       "      <th>9</th>\n",
       "      <td>3</td>\n",
       "      <td>6.173</td>\n",
       "      <td>30.862</td>\n",
       "    </tr>\n",
       "  </tbody>\n",
       "</table>\n",
       "</div>"
      ],
      "text/plain": [
       "   number_courses  time_study   Marks\n",
       "0               3       4.508  19.202\n",
       "1               4       0.096   7.734\n",
       "2               4       3.133  13.811\n",
       "3               6       7.909  53.018\n",
       "4               8       7.811  55.299\n",
       "5               6       3.211  17.822\n",
       "6               3       6.063  29.889\n",
       "7               5       3.413  17.264\n",
       "8               4       4.410  20.348\n",
       "9               3       6.173  30.862"
      ]
     },
     "execution_count": 383,
     "metadata": {},
     "output_type": "execute_result"
    }
   ],
   "source": [
    "df = pd.read_csv('Student_Marks.csv')\n",
    "df.head(10)"
   ]
  },
  {
   "cell_type": "code",
   "execution_count": 384,
   "metadata": {},
   "outputs": [
    {
     "name": "stdout",
     "output_type": "stream",
     "text": [
      "independent variable: \n",
      "[4.13  4.378 7.711 7.641 4.869 6.954 0.096 2.438 3.591 2.754 7.811 4.26\n",
      " 6.08  0.14  6.533 3.211 2.73  7.468 4.508 4.083 0.156 6.703 0.423 7.543\n",
      " 4.875 0.771 7.353 1.923 5.473 7.649 0.805 6.201 0.932 1.982 2.908 6.376\n",
      " 3.977 1.299 3.913 7.163 0.309 3.948 4.733 3.919 4.633 5.985 1.407 7.283\n",
      " 2.262 3.797 7.775 2.142 6.198 4.218 1.803 3.736 1.033 2.966 6.126 3.197\n",
      " 6.173 0.301 0.55  0.13  4.779 1.954]\n",
      "dependent variable: \n",
      "[22.184 26.532 50.986 53.359 21.379 39.952  7.734 10.844 19.771 15.725\n",
      " 55.299 19.466 38.49   7.336 41.358 17.822 19.564 51.343 19.202 17.171\n",
      "  9.333 40.602 12.132 43.978 28.043  7.892 42.036  8.1   27.569 51.583\n",
      "  6.349 39.957 15.038 16.461 11.397 40.024 25.133  8.837 19.106 41.444\n",
      " 12.027 21.4   22.073 24.451 20.398 38.278  6.623 46.453 17.705 16.703\n",
      " 51.142 13.562 31.236 24.318 11.253 16.606  6.053 13.119 35.939 16.106\n",
      " 30.862  5.609  6.185 12.591 22.701  9.742]\n"
     ]
    }
   ],
   "source": [
    "# retrieve first column of dataset, time_study\n",
    "# could use a dynamic approach to get input size and all, for now we hardcode it\n",
    "x = df.iloc[:, 1]\n",
    "\n",
    "# get dependent variable (marks)\n",
    "y = df.iloc[:, -1]\n",
    "\n",
    "# generate train-test split in 1:3 ratio, random state to ensure uniform input across all instances\n",
    "xtrain, xtest, ytrain, ytest = train_test_split(x, y, test_size = 1/3, random_state = 0)\n",
    "\n",
    "\n",
    "# convert pandas dataframe to numpy to handle matrix dot products, vector dot products etc\n",
    "xtrain = xtrain.to_numpy()\n",
    "ytrain = ytrain.to_numpy()\n",
    "\n",
    "print(\"independent variable: \", xtrain, sep=\"\\n\")\n",
    "print(\"dependent variable: \", ytrain, sep=\"\\n\")"
   ]
  },
  {
   "cell_type": "markdown",
   "metadata": {},
   "source": [
    "# Hyperparameters\n",
    "\n",
    "Our regression model assumes the following relation between independent and dependent variables\n",
    "$$\n",
    "\\displaystyle\\ y = m \\cdot x + c\n",
    "$$\n",
    "\n",
    "* y: dependent variable (the value of which we have to find, can be considered as label for the sake of understanding)\n",
    "* x: independent variable (the input feature, based on which we have to calculate new values for y)\n",
    "* weight(m): m is the slope in the context of a regression line, but in a machine learning model sense we can say it corresponds to weights\n",
    "* bias(c): c is the y-intercept, can be treated as bias\n",
    "\n",
    "the dimension of weights in a machine learning context is $a \\cdot b$ matrix where a(rows) corresponds to number of neurons and b(columns) corresponds to number of input features\n",
    "\n",
    "in our case for regression a single scalar unit as weight will suffice, since there is only 1 feature, based on increasing feature we can create a vector of size n where n = input features"
   ]
  },
  {
   "cell_type": "code",
   "execution_count": 385,
   "metadata": {},
   "outputs": [],
   "source": [
    "# initialize weights and bias to 0, learning rate can be tweaked to find an optimal starting point\n",
    "weight = np.float32(0.0)\n",
    "bias = np.float32(0.0)\n",
    "epochs = 1000\n",
    "learningRate = 0.0001\n",
    "errors = []"
   ]
  },
  {
   "cell_type": "code",
   "execution_count": 386,
   "metadata": {},
   "outputs": [
    {
     "name": "stdout",
     "output_type": "stream",
     "text": [
      "(66,)\n",
      "(66,)\n",
      "()\n",
      "()\n"
     ]
    }
   ],
   "source": [
    "# helper block to see the shapes of hyperparameters and features/labels\n",
    "print(xtrain.shape)\n",
    "print(ytrain.shape)\n",
    "print(weight.shape)\n",
    "print(bias.shape)"
   ]
  },
  {
   "cell_type": "markdown",
   "metadata": {},
   "source": [
    "# Logic\n",
    "\n",
    "we have a set number of Epochs, the entire xtrain (input) is mapped to a output value based on hypothesis function\n",
    "$$\\hat{y} = w_1 x_1 + w_2 x_2 + \\dots + w_n x_n + b$$\n",
    "In our case there is only one weight (since 1 input feature), the dot product between weight(scalar) and xtrain(vector) will give us a new vector of the weighted product of each input, then we add the bias term to every element in that vector\n",
    "\n",
    "dimension of weight = ()\n",
    "\n",
    "dimension of xtrain = (66, )\n",
    "\n",
    "dimension of predicted = (66, )\n",
    "\n",
    "$$\n",
    "\\hat{y} = predicted\\newline\n",
    "predicted=w \\cdot xtrain\\newline\n",
    "predicted=\\left[ \\begin{array}{c}\n",
    "w x_1 + b & w x_2 + b & \\dots & w x_n + b\n",
    "\\end{array} \\right]\n",
    "$$\n",
    "\n",
    "Then we calculate the error term for each of the predicted value\n",
    "\n",
    "$$\n",
    "error = y - \\hat{y}\\newline\n",
    "y - \\hat{y} = ytrain - predicted\\newline\n",
    "\n",
    "ytrain - predicted=\\left[ \\begin{array}{c}\n",
    "y_1 - (w x_1 + b) & y_2 - (w x_2 + b) & \\dots & y_n - (w x_n + b)\n",
    "\\end{array} \\right]\n",
    "$$\n",
    "\n",
    "### Mean Squared Error (MSE)\n",
    "\n",
    "now we've calculated the error term, in simple linear regression we use Mean Squared Error (MSE) as the cost function, which is nothing but\n",
    "$$\n",
    "\n",
    "\\text{MSE} = \\frac{1}{n} \\sum_{i=1}^{n} (y_i - \\hat{y}_i)^2\\newline\n",
    "\n",
    "\n",
    "n \\text{ is the number of data points,}\\newline\n",
    "y_i \\text{ is the actual value for the \\(i\\)-th data point,}\\newline\n",
    "\\hat{y}_i = w x_i + b \\text{ is the predicted value.}\\newline\n",
    "\n",
    "$$\n",
    "\n",
    "The MSE is the cost function we are trying to minimize, which measures the average of the squared differences between actual values $y_i$ and predicted values $\\hat{y}_i$:\n",
    "\n",
    "\n",
    "\n",
    "Where:\n",
    "\n",
    "\n",
    "### Gradient of MSE with Respect to $w$\n",
    "\n",
    "To perform gradient descent, we need the partial derivatives of the MSE with respect to both $w$ (slope) and $b$ (intercept). These derivatives tell us how to adjust $w$ and $b$ to reduce the error.\n",
    "\n",
    "1. **Derivative with respect to $w$**:\n",
    "\n",
    "The predicted value is $\\hat{y}_i = w x_i + b$, so:\n",
    "\n",
    "$$\n",
    "\\text{MSE} = \\frac{1}{n} \\sum_{i=1}^{n} (y_i - (w x_i + b))^2\n",
    "$$\n",
    "\n",
    "Taking the partial derivative of MSE with respect to $w$ (using the chain rule):\n",
    "\n",
    "$$\n",
    "\\frac{\\partial \\text{MSE}}{\\partial w} = \\frac{\\partial}{\\partial w} \\left( \\frac{1}{n} \\sum_{i=1}^{n} (y_i - (w x_i + b))^2 \\right)\n",
    "$$\n",
    "\n",
    "Applying the chain rule to the square term:\n",
    "\n",
    "$$\n",
    "\\frac{\\partial \\text{MSE}}{\\partial w} = \\frac{2}{n} \\sum_{i=1}^{n} (y_i - (w x_i + b)) \\cdot (-x_i)\n",
    "$$\n",
    "\n",
    "Simplifying:\n",
    "\n",
    "$$\n",
    "\\frac{\\partial \\text{MSE}}{\\partial m} = -\\frac{2}{n} \\sum_{i=1}^{n} x_i (y_i - \\hat{y}_i)\n",
    "$$\n",
    "\n",
    "The negative sign comes from the derivative of the square term $(y_i - \\hat{y}_i)^2$, and $\\hat{y}_i$ depends on $w$, so we ignore $y$ and have $ -(x_i) $ when differentiating $\\hat{y}$ with respect to $w$.\n",
    "\n",
    "That is,\n",
    "\n",
    "$$\n",
    "gradient = -\\frac{2}{n} \\cdot xtrain \\cdot error\n",
    "$$\n",
    "\n",
    "\n",
    "In the program as I stated earlier, both error and xtrain are vectors of the same size, so to calculate the gradient with respect to $w$ we simply multiply the constant part $-\\frac{2}{n}$ with the dot product of xtrain and error vectors (whose output will be a scalar unit)\n",
    "\n",
    "$$\n",
    "gradient = -\\frac{2}{n} \\cdot xtrain \\cdot error = x \\cdot \\hat{y}\\newline\n",
    "gradient = -\\frac{2}{n} \\cdot (x_1 \\cdot \\hat{y}_1 + x_2 \\cdot \\hat{y}_2 + \\dots + x_n \\cdot \\hat{y}_n)\n",
    "\n",
    "$$\n",
    "\n"
   ]
  },
  {
   "cell_type": "code",
   "execution_count": 387,
   "metadata": {},
   "outputs": [
    {
     "name": "stdout",
     "output_type": "stream",
     "text": [
      "weights, bias =  5.65802382770543 1.1029801906905599\n"
     ]
    }
   ],
   "source": [
    "for i in range(epochs):\n",
    "    predicted = np.dot(weight, xtrain) + bias\n",
    "    error = ytrain - predicted\n",
    "\n",
    "    # track error for plotting costgraph\n",
    "    errors.append(np.mean(error ** 2))\n",
    "\n",
    "    weightGradient = -(2/len(xtrain)) * np.dot(xtrain, error)\n",
    "    biasGradient = -(2/len(xtrain)) * np.sum(error)\n",
    "    \n",
    "    weight = weight - learningRate * weightGradient\n",
    "    bias = bias - learningRate * biasGradient\n",
    "    \n",
    "print(\"weights, bias = \", weight, bias)\n"
   ]
  },
  {
   "cell_type": "code",
   "execution_count": 388,
   "metadata": {},
   "outputs": [],
   "source": [
    "def predict(x):\n",
    "    return weight * x + bias"
   ]
  },
  {
   "cell_type": "code",
   "execution_count": 389,
   "metadata": {},
   "outputs": [
    {
     "data": {
      "image/png": "[encoded data removed]",
      "text/plain": [
       "<Figure size 640x480 with 1 Axes>"
      ]
     },
     "metadata": {},
     "output_type": "display_data"
    },
    {
     "data": {
      "text/plain": [
       "[<matplotlib.lines.Line2D at 0x21cf9e77ad0>]"
      ]
     },
     "execution_count": 389,
     "metadata": {},
     "output_type": "execute_result"
    },
    {
     "data": {
      "image/png": "[encoded data removed]",
      "text/plain": [
       "<Figure size 640x480 with 1 Axes>"
      ]
     },
     "metadata": {},
     "output_type": "display_data"
    }
   ],
   "source": [
    "\n",
    "xMin = math.floor(min(xtrain))\n",
    "xMax = math.ceil(max(xtrain))\n",
    "\n",
    "plt.title(\"Regression Line for Hours vs Marks\")\n",
    "plt.xlabel(\"Hours Studied\")\n",
    "plt.ylabel(\"Marks Obtained\")\n",
    "plt.scatter(xtrain, ytrain, color=\"red\")\n",
    "plt.plot(list(range(xMin, xMax + 1)), [predict(x) for x in range(xMin, xMax + 1)])\n",
    "plt.show()\n",
    "\n",
    "plt.title(\"Error vs Epoch\")\n",
    "plt.ylabel(\"Error\")\n",
    "plt.xlabel(\"Epochs\")\n",
    "plt.plot(errors)"
   ]
  }
 ],
 "metadata": {
  "kernelspec": {
   "display_name": "Python 3",
   "language": "python",
   "name": "python3"
  },
  "language_info": {
   "codemirror_mode": {
    "name": "ipython",
    "version": 3
   },
   "file_extension": ".py",
   "mimetype": "text/x-python",
   "name": "python",
   "nbconvert_exporter": "python",
   "pygments_lexer": "ipython3",
   "version": "3.11.1"
  }
 },
 "nbformat": 4,
 "nbformat_minor": 2
}
